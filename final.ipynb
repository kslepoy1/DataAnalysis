{
 "cells": [
  {
   "cell_type": "markdown",
   "metadata": {},
   "source": [
    "# Patent Success Prediction\n",
    "\n",
    "## This notebook takes in data from pending applications and predicts possibility of acceptance based on supporting information and similarity to previously acccpted patents.\n"
   ]
  },
  {
   "cell_type": "markdown",
   "metadata": {},
   "source": [
    "### The following 5 cells flatten the data from pending applications into a usable form"
   ]
  },
  {
   "cell_type": "code",
   "execution_count": 4,
   "metadata": {},
   "outputs": [],
   "source": [
    "import pandas as pd\n",
    "from IPython.display import IFrame\n",
    "import urllib.request\n",
    "import json\n",
    "headers=['applicantid','patentId','patentNumber','supportingMaterial','hasRepresentative','natureOfPatent','hasPublications', 'creator', 'busisnessSize', 'businessName', 'isValid', 'track1NonProvisionalApp','provisional','description','usNationalStageNumber','acceleratedExam','nonProvisionalExam','reexam','reissue','isDesignApplication', 'country','info','isForeignPriority','isInternationalDesignApp','receivingOffice']\n"
   ]
  },
  {
   "cell_type": "code",
   "execution_count": 5,
   "metadata": {},
   "outputs": [],
   "source": [
    "applicant = open('applicant')\n",
    "appId=[]\n",
    "creator=[]\n",
    "busSize=[]\n",
    "busName=[]\n",
    "for line in applicant:\n",
    "    line=line.split(',')\n",
    "    if len(line)<6:\n",
    "        continue\n",
    "    x=5\n",
    "    bussize=line[x]\n",
    "    while bussize not in ['Small', 'Medium', 'Large', 'Independent'] and x<len(line)-2:\n",
    "        x+=1\n",
    "    else:\n",
    "        busSize.append(line[x])\n",
    "        busName.append(line[x+1].strip('\\n'))\n",
    "    appId.append(line[0])\n",
    "    creator.append(line[2])\n",
    "df=pd.DataFrame({'applicantId':appId, 'creator':creator, 'businessSize':busSize, 'businessName':busName })\n",
    "df=df[1:]\n"
   ]
  },
  {
   "cell_type": "code",
   "execution_count": 6,
   "metadata": {},
   "outputs": [],
   "source": [
    "applicant= open('application')\n",
    "for line in applicant:\n",
    "        line=line.split(',')\n",
    "        apid=line[5]\n",
    "        valid=line[7]\n",
    "        patid=line[6]\n",
    "        for row in range(1,len(df)):\n",
    "            if apid==df.at[row,'applicantId']:\n",
    "                df.loc[row,'isValid']=valid.strip('\\n')\n",
    "                df.loc[row, 'patentId']=patid\n",
    "                break\n",
    "\n",
    "\n",
    "        "
   ]
  },
  {
   "cell_type": "code",
   "execution_count": 7,
   "metadata": {},
   "outputs": [],
   "source": [
    "applicant = open('patent')\n",
    "for line in applicant:\n",
    "    try:\n",
    "        line=line.split(',')\n",
    "        patid=line[0]\n",
    "        patnum=line[1]\n",
    "        product=line[2]\n",
    "        rep=line[4]\n",
    "        x=5\n",
    "        while line[x] not in ['Chemical', 'Material', 'Structural'] and x<len(line)-2:\n",
    "            x+=1\n",
    "        nature=line[x]\n",
    "        pub=line[x+1]\n",
    "    except IndexError:\n",
    "        continue\n",
    "    for row in range(1, len(df)):\n",
    "        if patid == df.loc[row, 'patentId']:\n",
    "            df.loc[row, 'patentNumber'] = patnum\n",
    "            df.loc[row, 'productName'] = product\n",
    "            df.loc[row, 'hasRepresentative'] = rep\n",
    "            df.loc[row, 'patentNature'] = nature\n",
    "            df.loc[row, 'hasPublication'] = pub\n",
    "df=df[df['creator']!= 'NULL']\n",
    "df=df[df['businessSize']!='']\n"
   ]
  },
  {
   "cell_type": "code",
   "execution_count": 10,
   "metadata": {},
   "outputs": [
    {
     "data": {
      "text/html": [
       "<div>\n",
       "<style scoped>\n",
       "    .dataframe tbody tr th:only-of-type {\n",
       "        vertical-align: middle;\n",
       "    }\n",
       "\n",
       "    .dataframe tbody tr th {\n",
       "        vertical-align: top;\n",
       "    }\n",
       "\n",
       "    .dataframe thead th {\n",
       "        text-align: right;\n",
       "    }\n",
       "</style>\n",
       "<table border=\"1\" class=\"dataframe\">\n",
       "  <thead>\n",
       "    <tr style=\"text-align: right;\">\n",
       "      <th></th>\n",
       "      <th>applicantId</th>\n",
       "      <th>creator</th>\n",
       "      <th>businessSize</th>\n",
       "      <th>businessName</th>\n",
       "      <th>isValid</th>\n",
       "      <th>patentId</th>\n",
       "      <th>patentNumber</th>\n",
       "      <th>productName</th>\n",
       "      <th>hasRepresentative</th>\n",
       "      <th>patentNature</th>\n",
       "      <th>hasPublication</th>\n",
       "      <th>country</th>\n",
       "      <th>info</th>\n",
       "      <th>isForeignInfluence</th>\n",
       "    </tr>\n",
       "  </thead>\n",
       "  <tbody>\n",
       "    <tr>\n",
       "      <td>0</td>\n",
       "      <td>00d0ce0b-dfeb-4531-87f6-a34210f0d110</td>\n",
       "      <td>\"Burt Curtis\"</td>\n",
       "      <td>Small</td>\n",
       "      <td>\"Burt's Bees\"</td>\n",
       "      <td>Valid</td>\n",
       "      <td>55a77995-81d7-4f03-823c-541a858fe16b</td>\n",
       "      <td>e2f407b5-b231-44e7-b292-b6b7157de679</td>\n",
       "      <td>\"Beeswax Lip Balm\"</td>\n",
       "      <td>1</td>\n",
       "      <td>Structural</td>\n",
       "      <td>1</td>\n",
       "      <td>NaN</td>\n",
       "      <td>NaN</td>\n",
       "      <td>NaN</td>\n",
       "    </tr>\n",
       "    <tr>\n",
       "      <td>1</td>\n",
       "      <td>019b3271-1ab4-4b1d-9372-5ad4f3ef4daa</td>\n",
       "      <td>\"Nikolai Vermont\"</td>\n",
       "      <td>Large</td>\n",
       "      <td>\"Karvey's Paint Stores\"</td>\n",
       "      <td>Valid</td>\n",
       "      <td>36924e77-8ef9-4d1b-a6ab-ffa60d0070b3</td>\n",
       "      <td>d1478b42-bf0d-4d67-90b2-59ab18cbb7b5</td>\n",
       "      <td>\"Paint Markers\"</td>\n",
       "      <td>1</td>\n",
       "      <td>Structural</td>\n",
       "      <td>1</td>\n",
       "      <td>Australia</td>\n",
       "      <td></td>\n",
       "      <td>1</td>\n",
       "    </tr>\n",
       "    <tr>\n",
       "      <td>2</td>\n",
       "      <td>07c4a975-ac78-4632-9c57-1572c323c124</td>\n",
       "      <td>Katya</td>\n",
       "      <td>Large</td>\n",
       "      <td>\"Boats inc\"</td>\n",
       "      <td>Valid</td>\n",
       "      <td>df577588-cff2-48ff-845e-99374f80c53b</td>\n",
       "      <td>d9bfa9f3-a9b3-4bdd-bfbc-ae307832dc2d</td>\n",
       "      <td>Boat</td>\n",
       "      <td>1</td>\n",
       "      <td>Material</td>\n",
       "      <td>0</td>\n",
       "      <td>reason-6</td>\n",
       "      <td></td>\n",
       "      <td>1</td>\n",
       "    </tr>\n",
       "    <tr>\n",
       "      <td>3</td>\n",
       "      <td>08204ca7-cc10-46bc-ba2a-59dc2b807a7d</td>\n",
       "      <td>\"Samantha Richardson\"</td>\n",
       "      <td>Large</td>\n",
       "      <td>HydroFlask</td>\n",
       "      <td>Valid</td>\n",
       "      <td>07e5b6a6-1433-4fd1-b47e-4a3b7fa856af</td>\n",
       "      <td>71169873-954c-4000-8c75-c63b5eb55b58</td>\n",
       "      <td>\"Insulated Waterbottle\"</td>\n",
       "      <td>1</td>\n",
       "      <td>Structural</td>\n",
       "      <td>0</td>\n",
       "      <td>\"United States\"</td>\n",
       "      <td>\"This patent has domestic priority.\"</td>\n",
       "      <td>0</td>\n",
       "    </tr>\n",
       "    <tr>\n",
       "      <td>4</td>\n",
       "      <td>0cb23c67-7f0a-4289-96d3-47ded5bbbe40</td>\n",
       "      <td>\"Ali Hussaid\"</td>\n",
       "      <td>Medium</td>\n",
       "      <td>HeadForEars</td>\n",
       "      <td>Valid</td>\n",
       "      <td>e56172a8-5634-444a-bfdb-4b4ca6b71e84</td>\n",
       "      <td>f0031e65-1b6a-4ad7-a700-4de6b566e5b3</td>\n",
       "      <td>\"Transforming Earphones\"</td>\n",
       "      <td>0</td>\n",
       "      <td>Material</td>\n",
       "      <td>0</td>\n",
       "      <td>Zimbabwe</td>\n",
       "      <td></td>\n",
       "      <td>1</td>\n",
       "    </tr>\n",
       "    <tr>\n",
       "      <td>...</td>\n",
       "      <td>...</td>\n",
       "      <td>...</td>\n",
       "      <td>...</td>\n",
       "      <td>...</td>\n",
       "      <td>...</td>\n",
       "      <td>...</td>\n",
       "      <td>...</td>\n",
       "      <td>...</td>\n",
       "      <td>...</td>\n",
       "      <td>...</td>\n",
       "      <td>...</td>\n",
       "      <td>...</td>\n",
       "      <td>...</td>\n",
       "      <td>...</td>\n",
       "    </tr>\n",
       "    <tr>\n",
       "      <td>79</td>\n",
       "      <td>f63cd5dc-f124-4816-ae16-5e10343f2a69</td>\n",
       "      <td>\"Michael Pam\"</td>\n",
       "      <td>Large</td>\n",
       "      <td>\"Scranton Paper &amp; Ink Co.\"</td>\n",
       "      <td>Valid</td>\n",
       "      <td>49bca521-149c-408d-8e01-d678f00c0821</td>\n",
       "      <td>0d4e8933-d1c4-484c-a127-c9acd1ff38ca</td>\n",
       "      <td>\"Disappearing Ink\"</td>\n",
       "      <td>1</td>\n",
       "      <td>Material</td>\n",
       "      <td>1</td>\n",
       "      <td>\"United States\"</td>\n",
       "      <td>\"This application has domestic priority in the...</td>\n",
       "      <td>0</td>\n",
       "    </tr>\n",
       "    <tr>\n",
       "      <td>80</td>\n",
       "      <td>f81ef25d-d96d-4db7-a1c0-76005a7dfa6c</td>\n",
       "      <td>\"Samuel Han\"</td>\n",
       "      <td>Medium</td>\n",
       "      <td>\"Car Innov@torZZZ\"</td>\n",
       "      <td>Valid</td>\n",
       "      <td>409491f7-3f96-4453-9a0b-5c7cd7f6a937</td>\n",
       "      <td>07c58b16-4d5a-4825-8441-4e7f6801ab34</td>\n",
       "      <td>\"Flying Car\"</td>\n",
       "      <td>0</td>\n",
       "      <td>Material</td>\n",
       "      <td>1</td>\n",
       "      <td>NaN</td>\n",
       "      <td>NaN</td>\n",
       "      <td>NaN</td>\n",
       "    </tr>\n",
       "    <tr>\n",
       "      <td>81</td>\n",
       "      <td>f897689a-7bfe-4e83-ba98-d5696600f926</td>\n",
       "      <td>\"Chris Mamba\"</td>\n",
       "      <td>Small</td>\n",
       "      <td>\"Cool Designs Inc.\"</td>\n",
       "      <td>Valid</td>\n",
       "      <td>bf4653f3-b4e7-42f1-956a-869c9525f05a</td>\n",
       "      <td>111f921d-2c1e-47fd-a3af-fa2ee9c3d34e</td>\n",
       "      <td>\"Phone Case Design\"</td>\n",
       "      <td>1</td>\n",
       "      <td>Structural</td>\n",
       "      <td>0</td>\n",
       "      <td>NaN</td>\n",
       "      <td>NaN</td>\n",
       "      <td>NaN</td>\n",
       "    </tr>\n",
       "    <tr>\n",
       "      <td>82</td>\n",
       "      <td>f9295264-bc68-4584-b529-8e9180d6bfee</td>\n",
       "      <td>\"John Tablesom II\"</td>\n",
       "      <td>Small</td>\n",
       "      <td>\"Tables Inc.\"</td>\n",
       "      <td>Invalid</td>\n",
       "      <td>78d7edb2-c16c-4d90-8e53-dcacf80d6fb6</td>\n",
       "      <td>f11cb3da-8709-473c-82c9-ba5a8df4abbe</td>\n",
       "      <td>\"Extending Table Legs\"</td>\n",
       "      <td>0</td>\n",
       "      <td>Structural</td>\n",
       "      <td>0</td>\n",
       "      <td>Canada</td>\n",
       "      <td></td>\n",
       "      <td>1</td>\n",
       "    </tr>\n",
       "    <tr>\n",
       "      <td>83</td>\n",
       "      <td>fb2773d4-6420-48c9-912a-de285969b07d</td>\n",
       "      <td>\"Jorge Masvidal\"</td>\n",
       "      <td>Medium</td>\n",
       "      <td>\"Sticky thumbs\"</td>\n",
       "      <td>Valid</td>\n",
       "      <td>e6d1328b-c283-471c-87b2-d83a5cc0cb00</td>\n",
       "      <td>f43dafd7-cc08-4494-85ac-8f219df03fc4</td>\n",
       "      <td>Thumbtack</td>\n",
       "      <td>0</td>\n",
       "      <td>Material</td>\n",
       "      <td>0</td>\n",
       "      <td>NaN</td>\n",
       "      <td>NaN</td>\n",
       "      <td>NaN</td>\n",
       "    </tr>\n",
       "  </tbody>\n",
       "</table>\n",
       "<p>84 rows × 14 columns</p>\n",
       "</div>"
      ],
      "text/plain": [
       "                             applicantId                creator businessSize  \\\n",
       "0   00d0ce0b-dfeb-4531-87f6-a34210f0d110          \"Burt Curtis\"        Small   \n",
       "1   019b3271-1ab4-4b1d-9372-5ad4f3ef4daa      \"Nikolai Vermont\"        Large   \n",
       "2   07c4a975-ac78-4632-9c57-1572c323c124                  Katya        Large   \n",
       "3   08204ca7-cc10-46bc-ba2a-59dc2b807a7d  \"Samantha Richardson\"        Large   \n",
       "4   0cb23c67-7f0a-4289-96d3-47ded5bbbe40          \"Ali Hussaid\"       Medium   \n",
       "..                                   ...                    ...          ...   \n",
       "79  f63cd5dc-f124-4816-ae16-5e10343f2a69          \"Michael Pam\"        Large   \n",
       "80  f81ef25d-d96d-4db7-a1c0-76005a7dfa6c           \"Samuel Han\"       Medium   \n",
       "81  f897689a-7bfe-4e83-ba98-d5696600f926          \"Chris Mamba\"        Small   \n",
       "82  f9295264-bc68-4584-b529-8e9180d6bfee     \"John Tablesom II\"        Small   \n",
       "83  fb2773d4-6420-48c9-912a-de285969b07d       \"Jorge Masvidal\"       Medium   \n",
       "\n",
       "                  businessName  isValid                              patentId  \\\n",
       "0                \"Burt's Bees\"    Valid  55a77995-81d7-4f03-823c-541a858fe16b   \n",
       "1      \"Karvey's Paint Stores\"    Valid  36924e77-8ef9-4d1b-a6ab-ffa60d0070b3   \n",
       "2                  \"Boats inc\"    Valid  df577588-cff2-48ff-845e-99374f80c53b   \n",
       "3                   HydroFlask    Valid  07e5b6a6-1433-4fd1-b47e-4a3b7fa856af   \n",
       "4                  HeadForEars    Valid  e56172a8-5634-444a-bfdb-4b4ca6b71e84   \n",
       "..                         ...      ...                                   ...   \n",
       "79  \"Scranton Paper & Ink Co.\"    Valid  49bca521-149c-408d-8e01-d678f00c0821   \n",
       "80          \"Car Innov@torZZZ\"    Valid  409491f7-3f96-4453-9a0b-5c7cd7f6a937   \n",
       "81         \"Cool Designs Inc.\"    Valid  bf4653f3-b4e7-42f1-956a-869c9525f05a   \n",
       "82               \"Tables Inc.\"  Invalid  78d7edb2-c16c-4d90-8e53-dcacf80d6fb6   \n",
       "83             \"Sticky thumbs\"    Valid  e6d1328b-c283-471c-87b2-d83a5cc0cb00   \n",
       "\n",
       "                            patentNumber               productName  \\\n",
       "0   e2f407b5-b231-44e7-b292-b6b7157de679        \"Beeswax Lip Balm\"   \n",
       "1   d1478b42-bf0d-4d67-90b2-59ab18cbb7b5           \"Paint Markers\"   \n",
       "2   d9bfa9f3-a9b3-4bdd-bfbc-ae307832dc2d                      Boat   \n",
       "3   71169873-954c-4000-8c75-c63b5eb55b58   \"Insulated Waterbottle\"   \n",
       "4   f0031e65-1b6a-4ad7-a700-4de6b566e5b3  \"Transforming Earphones\"   \n",
       "..                                   ...                       ...   \n",
       "79  0d4e8933-d1c4-484c-a127-c9acd1ff38ca        \"Disappearing Ink\"   \n",
       "80  07c58b16-4d5a-4825-8441-4e7f6801ab34              \"Flying Car\"   \n",
       "81  111f921d-2c1e-47fd-a3af-fa2ee9c3d34e       \"Phone Case Design\"   \n",
       "82  f11cb3da-8709-473c-82c9-ba5a8df4abbe    \"Extending Table Legs\"   \n",
       "83  f43dafd7-cc08-4494-85ac-8f219df03fc4                 Thumbtack   \n",
       "\n",
       "   hasRepresentative patentNature hasPublication          country  \\\n",
       "0                  1   Structural              1              NaN   \n",
       "1                  1   Structural              1        Australia   \n",
       "2                  1     Material              0         reason-6   \n",
       "3                  1   Structural              0  \"United States\"   \n",
       "4                  0     Material              0         Zimbabwe   \n",
       "..               ...          ...            ...              ...   \n",
       "79                 1     Material              1  \"United States\"   \n",
       "80                 0     Material              1              NaN   \n",
       "81                 1   Structural              0              NaN   \n",
       "82                 0   Structural              0           Canada   \n",
       "83                 0     Material              0              NaN   \n",
       "\n",
       "                                                 info isForeignInfluence  \n",
       "0                                                 NaN                NaN  \n",
       "1                                                                      1  \n",
       "2                                                                      1  \n",
       "3                \"This patent has domestic priority.\"                  0  \n",
       "4                                                                      1  \n",
       "..                                                ...                ...  \n",
       "79  \"This application has domestic priority in the...                  0  \n",
       "80                                                NaN                NaN  \n",
       "81                                                NaN                NaN  \n",
       "82                                                                     1  \n",
       "83                                                NaN                NaN  \n",
       "\n",
       "[84 rows x 14 columns]"
      ]
     },
     "execution_count": 10,
     "metadata": {},
     "output_type": "execute_result"
    }
   ],
   "source": [
    "df=df.reset_index()\n",
    "df.drop('index', axis=1, inplace=True)\n",
    "applicant=open('DomesticForeignInfluence')\n",
    "for line in applicant:\n",
    "    line=line.split(',')\n",
    "    patnum=line[4]\n",
    "    country=line[1]\n",
    "    info=line[2]\n",
    "    isforeigninf=line[3]\n",
    "    for row in range(1, len(df)):\n",
    "        if str(patnum).strip() == str(df.loc[row, 'patentNumber']).strip():\n",
    "            df.loc[row, 'country'] = country\n",
    "            df.loc[row, 'info'] = info\n",
    "            df.loc[row, 'isForeignInfluence'] = isforeigninf\n",
    "\n",
    "\n",
    "df\n"
   ]
  },
  {
   "cell_type": "markdown",
   "metadata": {},
   "source": [
    "### The following three cells count up the amount of supporting information provided with the patent such as publications, exams, and representatives."
   ]
  },
  {
   "cell_type": "code",
   "execution_count": 11,
   "metadata": {},
   "outputs": [],
   "source": [
    "\n",
    "for row in range(0, len(df)):\n",
    "    exams=0\n",
    "    applicant= open('supplementalExam')\n",
    "    for line in applicant:\n",
    "        line=line.split(',')\n",
    "        if line[1] == df.loc[row, 'patentNumber']:\n",
    "            df.loc[row, 'hasExam'] = 1\n",
    "            exams+=1\n",
    "    if exams==0:\n",
    "        df.loc[row, 'hasExam'] = 0\n",
    "    else:\n",
    "        df.loc[row, 'numExams'] = exams\n",
    "    applicant.close()\n",
    "    \n"
   ]
  },
  {
   "cell_type": "code",
   "execution_count": 12,
   "metadata": {},
   "outputs": [],
   "source": [
    "\n",
    "for row in range(0, len(df)):\n",
    "    reps=0\n",
    "    applicant= open('representative')\n",
    "    for line in applicant:\n",
    "        line=line.split(',')\n",
    "        if len(line)<8:\n",
    "            continue\n",
    "        if str(line[7]).strip() == str(df.loc[row, 'patentNumber']).strip():\n",
    "            reps+=1\n",
    "    applicant.close()\n",
    "    \n",
    "    df.loc[row, 'numReps'] = reps"
   ]
  },
  {
   "cell_type": "code",
   "execution_count": 13,
   "metadata": {},
   "outputs": [],
   "source": [
    "\n",
    "for row in range(0, len(df)):\n",
    "    pubs=0\n",
    "    applicant= open('Publication')\n",
    "    for line in applicant:\n",
    "        line=line.split(',')\n",
    "        if len(line)<8:\n",
    "            continue\n",
    "        if str(line[7]).strip() == str(df.loc[row, 'patentNumber']).strip():\n",
    "            pubs+=1\n",
    "    applicant.close()\n",
    "    df.loc[row, 'numPubs'] = pubs\n",
    "df.fillna(0, inplace=True)\n"
   ]
  },
  {
   "cell_type": "markdown",
   "metadata": {},
   "source": [
    "## We now send data about the application to an API that supplies information about accepted patents. We are counting up how many similar patents have been accepted."
   ]
  },
  {
   "cell_type": "code",
   "execution_count": null,
   "metadata": {
    "scrolled": true
   },
   "outputs": [
    {
     "name": "stdout",
     "output_type": "stream",
     "text": [
      ".................................................................................................................................................................................................!..........................................................................................!..............................................................................................................................................................................................................................................................................................................................................................!................................................................................!..................................................................................................................................................................................................................................................................................................................................................................................................................................................................................!.!.!.!.!.!.!.!.!.!.!.!.!.!.!.!.!.!.!................."
     ]
    }
   ],
   "source": [
    "\n",
    "for row in range(0,len(df)):\n",
    "    datalist=[]\n",
    "    s = df.loc[row, 'productName']\n",
    "    numSimPats=0\n",
    "    for x in range(1,20):\n",
    "        df.loc[row, \"similarPatents\"]=numSimPats\n",
    "        print('.', end='')\n",
    "        url = \"\"\"https://www.patentsview.org/api/patents/query?q=\"\"\"\n",
    "        try:\n",
    "            ss= s.split()\n",
    "        except AttributeError:\n",
    "            continue\n",
    "        if len(ss) == 1:\n",
    "            query=\"\"\"{\"_text_all\":{\"patent_title\":\"%s\"}}&o={\"page\":%d,\"per_page\":50}\"\"\"%(s,x)\n",
    "        else:\n",
    "            query=\"\"\"{\"_text_all\":{\"patent_title\":%s}}&o={\"page\":%d,\"per_page\":50}\"\"\"%(str(s).replace(' ', '%20'),x)\n",
    "        try:\n",
    "            uh = urllib.request.urlopen(url+query)\n",
    "        except:\n",
    "            print('!', end='')\n",
    "            continue\n",
    "        data = uh.read().decode()\n",
    "        if json.loads(data)['total_patent_count']==0:\n",
    "            continue\n",
    "        datalist.append(data)\n",
    "        numSimPats+=json.loads(data)['count']\n",
    "    "
   ]
  },
  {
   "cell_type": "markdown",
   "metadata": {},
   "source": [
    "## The cell below runs an algorithm that rates the usefulness of supporting information A.K.A. the 'complexity' of the application, compares that to the number of similar patents that have been accepted, and assigns an approval rating."
   ]
  },
  {
   "cell_type": "code",
   "execution_count": null,
   "metadata": {
    "scrolled": true
   },
   "outputs": [],
   "source": [
    "df['Complexity']=df['numExams']+df['numPubs']+df['numReps']\n",
    "for row in range(len(df)):\n",
    "    if df.loc[row,'businessSize'] =='Large':\n",
    "        x=2\n",
    "    if df.loc[row,'businessSize'] =='Small':\n",
    "        x=1.5\n",
    "    if df.loc[row,'businessSize'] =='Medium':\n",
    "        x=1.2\n",
    "    if df.loc[row,'businessSize'] =='Independent':\n",
    "        x=1\n",
    "    df.loc[row,'Complexity']/=x\n",
    "    if df.loc[row,'Complexity']==0 and df.loc[row, 'similarPatents']==0:\n",
    "        continue\n",
    "    if df.loc[row,'Complexity']==0:\n",
    "        df.loc[row,'Complexity']=.1\n",
    "    if df.loc[row, 'similarPatents']==0:\n",
    "        df.loc[row, 'similarPatents']=.1\n",
    "\n",
    "df['Approval'] = (df['similarPatents']/50)*(df['Complexity']*50)\n",
    "df['Approval']*=(11/100)\n",
    "df['Approval'].describe()"
   ]
  },
  {
   "cell_type": "code",
   "execution_count": null,
   "metadata": {},
   "outputs": [],
   "source": [
    "size=df[['businessSize','Approval','businessName']]\n",
    "likely=df[['Approval','similarPatents','Complexity','businessName']]\n",
    "size.to_csv('finalsize.csv')\n",
    "likely.to_csv('finallikely.csv')\n",
    "df.to_csv('finalfull.csv')"
   ]
  },
  {
   "cell_type": "markdown",
   "metadata": {},
   "source": [
    "# Approval Likelihood by Similar Patents and Supporting Info\n",
    " This visualization represents the approval likelihood with the x-axis being the amount of supporting information and the y-axis being the number of similar patents that have been approved. Lighter green patents are very likely to be approved, while darker purple are much more unlikely. Hover over the dots to see the name of the product and the exact percentage of approval likelihood."
   ]
  },
  {
   "cell_type": "code",
   "execution_count": null,
   "metadata": {},
   "outputs": [],
   "source": [
    "display(IFrame('https://public.flourish.studio/visualisation/1233063/',width=900, height=800, frameborder=0, scrolling=\"no\"))"
   ]
  },
  {
   "cell_type": "markdown",
   "metadata": {},
   "source": [
    "# Approval Likelihood by Business Size\n",
    "The following graph takes the likelihood of approval and organizes it by company size. From our test data, you can see patents from independents have a greater ratio of rejected patents to accepted patents, whereas medium sized companies have a more even spread. "
   ]
  },
  {
   "cell_type": "code",
   "execution_count": 18,
   "metadata": {},
   "outputs": [
    {
     "data": {
      "text/html": [
       "\n",
       "        <iframe\n",
       "            width=\"900\"\n",
       "            height=\"800\"\n",
       "            src=\"https://public.flourish.studio/visualisation/1233200/?frameborder=0&scrolling=no\"\n",
       "            frameborder=\"0\"\n",
       "            allowfullscreen\n",
       "        ></iframe>\n",
       "        "
      ],
      "text/plain": [
       "<IPython.lib.display.IFrame at 0x11d6dc450>"
      ]
     },
     "metadata": {},
     "output_type": "display_data"
    }
   ],
   "source": [
    "display(IFrame('https://public.flourish.studio/visualisation/1233200/',width=900, height=800, frameborder=0, scrolling=\"no\"))"
   ]
  },
  {
   "cell_type": "markdown",
   "metadata": {},
   "source": [
    "Flattening and reorganizing data for more graphs"
   ]
  },
  {
   "cell_type": "code",
   "execution_count": 6,
   "metadata": {},
   "outputs": [
    {
     "data": {
      "text/html": [
       "<div>\n",
       "<style scoped>\n",
       "    .dataframe tbody tr th:only-of-type {\n",
       "        vertical-align: middle;\n",
       "    }\n",
       "\n",
       "    .dataframe tbody tr th {\n",
       "        vertical-align: top;\n",
       "    }\n",
       "\n",
       "    .dataframe thead th {\n",
       "        text-align: right;\n",
       "    }\n",
       "</style>\n",
       "<table border=\"1\" class=\"dataframe\">\n",
       "  <thead>\n",
       "    <tr style=\"text-align: right;\">\n",
       "      <th></th>\n",
       "      <th>productName</th>\n",
       "      <th>patentNature</th>\n",
       "    </tr>\n",
       "  </thead>\n",
       "  <tbody>\n",
       "    <tr>\n",
       "      <td>0</td>\n",
       "      <td>\"Beeswax Lip Balm\"</td>\n",
       "      <td>Structural</td>\n",
       "    </tr>\n",
       "    <tr>\n",
       "      <td>1</td>\n",
       "      <td>\"Paint Markers\"</td>\n",
       "      <td>Structural</td>\n",
       "    </tr>\n",
       "    <tr>\n",
       "      <td>2</td>\n",
       "      <td>Boat</td>\n",
       "      <td>Material</td>\n",
       "    </tr>\n",
       "    <tr>\n",
       "      <td>3</td>\n",
       "      <td>\"Insulated Waterbottle\"</td>\n",
       "      <td>Structural</td>\n",
       "    </tr>\n",
       "    <tr>\n",
       "      <td>4</td>\n",
       "      <td>\"Transforming Earphones\"</td>\n",
       "      <td>Material</td>\n",
       "    </tr>\n",
       "    <tr>\n",
       "      <td>...</td>\n",
       "      <td>...</td>\n",
       "      <td>...</td>\n",
       "    </tr>\n",
       "    <tr>\n",
       "      <td>78</td>\n",
       "      <td>\"Disappearing Ink\"</td>\n",
       "      <td>Material</td>\n",
       "    </tr>\n",
       "    <tr>\n",
       "      <td>79</td>\n",
       "      <td>\"Flying Car\"</td>\n",
       "      <td>Material</td>\n",
       "    </tr>\n",
       "    <tr>\n",
       "      <td>80</td>\n",
       "      <td>\"Phone Case Design\"</td>\n",
       "      <td>Structural</td>\n",
       "    </tr>\n",
       "    <tr>\n",
       "      <td>81</td>\n",
       "      <td>\"Extending Table Legs\"</td>\n",
       "      <td>Structural</td>\n",
       "    </tr>\n",
       "    <tr>\n",
       "      <td>82</td>\n",
       "      <td>Thumbtack</td>\n",
       "      <td>Material</td>\n",
       "    </tr>\n",
       "  </tbody>\n",
       "</table>\n",
       "<p>83 rows × 2 columns</p>\n",
       "</div>"
      ],
      "text/plain": [
       "                 productName patentNature\n",
       "0         \"Beeswax Lip Balm\"   Structural\n",
       "1            \"Paint Markers\"   Structural\n",
       "2                       Boat     Material\n",
       "3    \"Insulated Waterbottle\"   Structural\n",
       "4   \"Transforming Earphones\"     Material\n",
       "..                       ...          ...\n",
       "78        \"Disappearing Ink\"     Material\n",
       "79              \"Flying Car\"     Material\n",
       "80       \"Phone Case Design\"   Structural\n",
       "81    \"Extending Table Legs\"   Structural\n",
       "82                 Thumbtack     Material\n",
       "\n",
       "[83 rows x 2 columns]"
      ]
     },
     "execution_count": 6,
     "metadata": {},
     "output_type": "execute_result"
    }
   ],
   "source": [
    "network=df[['businessSize', 'productName']]\n",
    "points=df[['productName','patentNature']]\n",
    "points"
   ]
  },
  {
   "cell_type": "code",
   "execution_count": 11,
   "metadata": {},
   "outputs": [],
   "source": [
    "points.insert(2,'size',1)"
   ]
  },
  {
   "cell_type": "code",
   "execution_count": 12,
   "metadata": {},
   "outputs": [
    {
     "data": {
      "text/html": [
       "<div>\n",
       "<style scoped>\n",
       "    .dataframe tbody tr th:only-of-type {\n",
       "        vertical-align: middle;\n",
       "    }\n",
       "\n",
       "    .dataframe tbody tr th {\n",
       "        vertical-align: top;\n",
       "    }\n",
       "\n",
       "    .dataframe thead th {\n",
       "        text-align: right;\n",
       "    }\n",
       "</style>\n",
       "<table border=\"1\" class=\"dataframe\">\n",
       "  <thead>\n",
       "    <tr style=\"text-align: right;\">\n",
       "      <th></th>\n",
       "      <th>productName</th>\n",
       "      <th>patentNature</th>\n",
       "      <th>size</th>\n",
       "    </tr>\n",
       "  </thead>\n",
       "  <tbody>\n",
       "    <tr>\n",
       "      <td>0</td>\n",
       "      <td>\"Beeswax Lip Balm\"</td>\n",
       "      <td>Structural</td>\n",
       "      <td>1</td>\n",
       "    </tr>\n",
       "    <tr>\n",
       "      <td>1</td>\n",
       "      <td>\"Paint Markers\"</td>\n",
       "      <td>Structural</td>\n",
       "      <td>1</td>\n",
       "    </tr>\n",
       "    <tr>\n",
       "      <td>2</td>\n",
       "      <td>Boat</td>\n",
       "      <td>Material</td>\n",
       "      <td>1</td>\n",
       "    </tr>\n",
       "    <tr>\n",
       "      <td>3</td>\n",
       "      <td>\"Insulated Waterbottle\"</td>\n",
       "      <td>Structural</td>\n",
       "      <td>1</td>\n",
       "    </tr>\n",
       "    <tr>\n",
       "      <td>4</td>\n",
       "      <td>\"Transforming Earphones\"</td>\n",
       "      <td>Material</td>\n",
       "      <td>1</td>\n",
       "    </tr>\n",
       "    <tr>\n",
       "      <td>...</td>\n",
       "      <td>...</td>\n",
       "      <td>...</td>\n",
       "      <td>...</td>\n",
       "    </tr>\n",
       "    <tr>\n",
       "      <td>78</td>\n",
       "      <td>\"Disappearing Ink\"</td>\n",
       "      <td>Material</td>\n",
       "      <td>1</td>\n",
       "    </tr>\n",
       "    <tr>\n",
       "      <td>79</td>\n",
       "      <td>\"Flying Car\"</td>\n",
       "      <td>Material</td>\n",
       "      <td>1</td>\n",
       "    </tr>\n",
       "    <tr>\n",
       "      <td>80</td>\n",
       "      <td>\"Phone Case Design\"</td>\n",
       "      <td>Structural</td>\n",
       "      <td>1</td>\n",
       "    </tr>\n",
       "    <tr>\n",
       "      <td>81</td>\n",
       "      <td>\"Extending Table Legs\"</td>\n",
       "      <td>Structural</td>\n",
       "      <td>1</td>\n",
       "    </tr>\n",
       "    <tr>\n",
       "      <td>82</td>\n",
       "      <td>Thumbtack</td>\n",
       "      <td>Material</td>\n",
       "      <td>1</td>\n",
       "    </tr>\n",
       "  </tbody>\n",
       "</table>\n",
       "<p>83 rows × 3 columns</p>\n",
       "</div>"
      ],
      "text/plain": [
       "                 productName patentNature  size\n",
       "0         \"Beeswax Lip Balm\"   Structural     1\n",
       "1            \"Paint Markers\"   Structural     1\n",
       "2                       Boat     Material     1\n",
       "3    \"Insulated Waterbottle\"   Structural     1\n",
       "4   \"Transforming Earphones\"     Material     1\n",
       "..                       ...          ...   ...\n",
       "78        \"Disappearing Ink\"     Material     1\n",
       "79              \"Flying Car\"     Material     1\n",
       "80       \"Phone Case Design\"   Structural     1\n",
       "81    \"Extending Table Legs\"   Structural     1\n",
       "82                 Thumbtack     Material     1\n",
       "\n",
       "[83 rows x 3 columns]"
      ]
     },
     "execution_count": 12,
     "metadata": {},
     "output_type": "execute_result"
    }
   ],
   "source": [
    "df.businessSize.value_counts()\n",
    "points"
   ]
  },
  {
   "cell_type": "code",
   "execution_count": 13,
   "metadata": {},
   "outputs": [],
   "source": [
    "points=points.append({'productName':'Small','patentNature':'Size','size':len(df[df['businessSize']=='Small'])}, ignore_index=True)\n",
    "points=points.append({'productName':'Medium','patentNature':'Size','size':len(df[df['businessSize']=='Medium'])}, ignore_index=True)\n",
    "points=points.append({'productName':'Large','patentNature':'Size','size':len(df[df['businessSize']=='Large'])}, ignore_index=True)\n",
    "points=points.append({'productName':'Independent','patentNature':'Size','size':len(df[df['businessSize']=='Independent'])}, ignore_index=True)"
   ]
  },
  {
   "cell_type": "code",
   "execution_count": 14,
   "metadata": {},
   "outputs": [
    {
     "data": {
      "text/html": [
       "<div>\n",
       "<style scoped>\n",
       "    .dataframe tbody tr th:only-of-type {\n",
       "        vertical-align: middle;\n",
       "    }\n",
       "\n",
       "    .dataframe tbody tr th {\n",
       "        vertical-align: top;\n",
       "    }\n",
       "\n",
       "    .dataframe thead th {\n",
       "        text-align: right;\n",
       "    }\n",
       "</style>\n",
       "<table border=\"1\" class=\"dataframe\">\n",
       "  <thead>\n",
       "    <tr style=\"text-align: right;\">\n",
       "      <th></th>\n",
       "      <th>productName</th>\n",
       "      <th>patentNature</th>\n",
       "      <th>size</th>\n",
       "    </tr>\n",
       "  </thead>\n",
       "  <tbody>\n",
       "    <tr>\n",
       "      <td>72</td>\n",
       "      <td>Flashlight</td>\n",
       "      <td>Material</td>\n",
       "      <td>1</td>\n",
       "    </tr>\n",
       "    <tr>\n",
       "      <td>73</td>\n",
       "      <td>\"Flaming Cars\"</td>\n",
       "      <td>Material</td>\n",
       "      <td>1</td>\n",
       "    </tr>\n",
       "    <tr>\n",
       "      <td>74</td>\n",
       "      <td>\"Corn Plant\"</td>\n",
       "      <td>Chemical</td>\n",
       "      <td>1</td>\n",
       "    </tr>\n",
       "    <tr>\n",
       "      <td>75</td>\n",
       "      <td>\"Indigo Food Coloing\"</td>\n",
       "      <td>Chemical</td>\n",
       "      <td>1</td>\n",
       "    </tr>\n",
       "    <tr>\n",
       "      <td>76</td>\n",
       "      <td>\"Bluetooth Mouse\"</td>\n",
       "      <td>Structural</td>\n",
       "      <td>1</td>\n",
       "    </tr>\n",
       "    <tr>\n",
       "      <td>77</td>\n",
       "      <td>\"Corn Harvester\"</td>\n",
       "      <td>Structural</td>\n",
       "      <td>1</td>\n",
       "    </tr>\n",
       "    <tr>\n",
       "      <td>78</td>\n",
       "      <td>\"Disappearing Ink\"</td>\n",
       "      <td>Material</td>\n",
       "      <td>1</td>\n",
       "    </tr>\n",
       "    <tr>\n",
       "      <td>79</td>\n",
       "      <td>\"Flying Car\"</td>\n",
       "      <td>Material</td>\n",
       "      <td>1</td>\n",
       "    </tr>\n",
       "    <tr>\n",
       "      <td>80</td>\n",
       "      <td>\"Phone Case Design\"</td>\n",
       "      <td>Structural</td>\n",
       "      <td>1</td>\n",
       "    </tr>\n",
       "    <tr>\n",
       "      <td>81</td>\n",
       "      <td>\"Extending Table Legs\"</td>\n",
       "      <td>Structural</td>\n",
       "      <td>1</td>\n",
       "    </tr>\n",
       "    <tr>\n",
       "      <td>82</td>\n",
       "      <td>Thumbtack</td>\n",
       "      <td>Material</td>\n",
       "      <td>1</td>\n",
       "    </tr>\n",
       "    <tr>\n",
       "      <td>83</td>\n",
       "      <td>Small</td>\n",
       "      <td>Size</td>\n",
       "      <td>17</td>\n",
       "    </tr>\n",
       "    <tr>\n",
       "      <td>84</td>\n",
       "      <td>Medium</td>\n",
       "      <td>Size</td>\n",
       "      <td>18</td>\n",
       "    </tr>\n",
       "    <tr>\n",
       "      <td>85</td>\n",
       "      <td>Large</td>\n",
       "      <td>Size</td>\n",
       "      <td>39</td>\n",
       "    </tr>\n",
       "    <tr>\n",
       "      <td>86</td>\n",
       "      <td>Independent</td>\n",
       "      <td>Size</td>\n",
       "      <td>9</td>\n",
       "    </tr>\n",
       "  </tbody>\n",
       "</table>\n",
       "</div>"
      ],
      "text/plain": [
       "               productName patentNature  size\n",
       "72              Flashlight     Material     1\n",
       "73          \"Flaming Cars\"     Material     1\n",
       "74            \"Corn Plant\"     Chemical     1\n",
       "75   \"Indigo Food Coloing\"     Chemical     1\n",
       "76       \"Bluetooth Mouse\"   Structural     1\n",
       "77        \"Corn Harvester\"   Structural     1\n",
       "78      \"Disappearing Ink\"     Material     1\n",
       "79            \"Flying Car\"     Material     1\n",
       "80     \"Phone Case Design\"   Structural     1\n",
       "81  \"Extending Table Legs\"   Structural     1\n",
       "82               Thumbtack     Material     1\n",
       "83                   Small         Size    17\n",
       "84                  Medium         Size    18\n",
       "85                   Large         Size    39\n",
       "86             Independent         Size     9"
      ]
     },
     "execution_count": 14,
     "metadata": {},
     "output_type": "execute_result"
    }
   ],
   "source": [
    "points.tail(15)"
   ]
  },
  {
   "cell_type": "code",
   "execution_count": 15,
   "metadata": {},
   "outputs": [],
   "source": [
    "points.to_csv('points.csv')\n",
    "network.to_csv('links.csv')"
   ]
  },
  {
   "cell_type": "code",
   "execution_count": 36,
   "metadata": {},
   "outputs": [],
   "source": [
    "df=df[df['patentNature']!='0']\n",
    "B=df[df['businessSize']=='Small'].patentNature.value_counts()\n",
    "C=df[df['businessSize']=='Medium'].patentNature.value_counts()\n",
    "D=df[df['businessSize']=='Large'].patentNature.value_counts()\n",
    "E=df[df['businessSize']=='Independent'].patentNature.value_counts()\n",
    "A=['Structural','Material','Chemical']\n",
    "\n",
    "fd=pd.DataFrame({'Small':B,'Medium':C,'Large':D,'Independent':E})"
   ]
  },
  {
   "cell_type": "code",
   "execution_count": 37,
   "metadata": {},
   "outputs": [
    {
     "data": {
      "text/html": [
       "<div>\n",
       "<style scoped>\n",
       "    .dataframe tbody tr th:only-of-type {\n",
       "        vertical-align: middle;\n",
       "    }\n",
       "\n",
       "    .dataframe tbody tr th {\n",
       "        vertical-align: top;\n",
       "    }\n",
       "\n",
       "    .dataframe thead th {\n",
       "        text-align: right;\n",
       "    }\n",
       "</style>\n",
       "<table border=\"1\" class=\"dataframe\">\n",
       "  <thead>\n",
       "    <tr style=\"text-align: right;\">\n",
       "      <th></th>\n",
       "      <th>Small</th>\n",
       "      <th>Medium</th>\n",
       "      <th>Large</th>\n",
       "      <th>Independent</th>\n",
       "    </tr>\n",
       "  </thead>\n",
       "  <tbody>\n",
       "    <tr>\n",
       "      <td>Chemical</td>\n",
       "      <td>5</td>\n",
       "      <td>6</td>\n",
       "      <td>5</td>\n",
       "      <td>2</td>\n",
       "    </tr>\n",
       "    <tr>\n",
       "      <td>Material</td>\n",
       "      <td>6</td>\n",
       "      <td>9</td>\n",
       "      <td>15</td>\n",
       "      <td>6</td>\n",
       "    </tr>\n",
       "    <tr>\n",
       "      <td>Structural</td>\n",
       "      <td>6</td>\n",
       "      <td>3</td>\n",
       "      <td>18</td>\n",
       "      <td>1</td>\n",
       "    </tr>\n",
       "  </tbody>\n",
       "</table>\n",
       "</div>"
      ],
      "text/plain": [
       "            Small  Medium  Large  Independent\n",
       "Chemical        5       6      5            2\n",
       "Material        6       9     15            6\n",
       "Structural      6       3     18            1"
      ]
     },
     "execution_count": 37,
     "metadata": {},
     "output_type": "execute_result"
    }
   ],
   "source": [
    "fd"
   ]
  },
  {
   "cell_type": "code",
   "execution_count": 38,
   "metadata": {},
   "outputs": [],
   "source": [
    "fd.to_csv('pie.csv')"
   ]
  },
  {
   "cell_type": "markdown",
   "metadata": {},
   "source": [
    "# Patent Nature by Company Size"
   ]
  },
  {
   "cell_type": "code",
   "execution_count": 39,
   "metadata": {},
   "outputs": [
    {
     "data": {
      "text/html": [
       "\n",
       "        <iframe\n",
       "            width=\"900\"\n",
       "            height=\"800\"\n",
       "            src=\"https://public.flourish.studio/visualisation/1237847/?frameborder=0&scrolling=no\"\n",
       "            frameborder=\"0\"\n",
       "            allowfullscreen\n",
       "        ></iframe>\n",
       "        "
      ],
      "text/plain": [
       "<IPython.lib.display.IFrame at 0x11d54ba50>"
      ]
     },
     "metadata": {},
     "output_type": "display_data"
    }
   ],
   "source": [
    "\n",
    "display(IFrame('https://public.flourish.studio/visualisation/1237847/',width=900, height=800, frameborder=0, scrolling=\"no\"))"
   ]
  },
  {
   "cell_type": "markdown",
   "metadata": {},
   "source": [
    "# Overview\n",
    "<blockquote>The following notebook showcases visualizations regarding patent data to examine correlations and patterns in this data. In order to use the notebook, you must have the following installed: \n",
    "<ul>\n",
    "    <li>jupyter notebook</li>\n",
    "    <li>pandas</li>\n",
    "    <li>matplotlib</li>\n",
    "    <li>seaborn</li>\n",
    "</ul>\n",
    "By running this notebook in jupyter, we can see the visualizations when comparing patent data</blockquote>"
   ]
  },
  {
   "cell_type": "raw",
   "metadata": {},
   "source": [
    "import pandas as pd\n",
    "pd.plotting.register_matplotlib_converters()\n",
    "import matplotlib.pyplot as plt\n",
    "%matplotlib inline\n",
    "import seaborn as sns"
   ]
  },
  {
   "cell_type": "markdown",
   "metadata": {},
   "source": [
    "## Required Files\n",
    "<blockquote>You will need the patents2.csv file in order to run the notebook.</blockquote>"
   ]
  },
  {
   "cell_type": "code",
   "execution_count": 96,
   "metadata": {},
   "outputs": [],
   "source": [
    "patents_data = pd.read_csv(\"patents2.csv\")"
   ]
  },
  {
   "cell_type": "markdown",
   "metadata": {},
   "source": [
    "## Barplots Regarding Business Size\n",
    "<blockquote>Below we have three different barplots that show the following:\n",
    "<ul>\n",
    "    <li>Average Number of Representatives by Business Size</li>\n",
    "    <li>Average Number of Publications by Business Size</li>\n",
    "    <li>Average Number of Supplemental Exams by Business Size</li>\n",
    "</ul>\n",
    "We use the following to see if business size has a correlation to the average number for representatives, publications, and supplemental exams.\n",
    "</blockquote>"
   ]
  },
  {
   "cell_type": "code",
   "execution_count": 97,
   "metadata": {},
   "outputs": [
    {
     "data": {
      "text/plain": [
       "Text(0, 0.5, 'Average Number of Representatives')"
      ]
     },
     "execution_count": 97,
     "metadata": {},
     "output_type": "execute_result"
    },
    {
     "data": {
      "image/png": "[encoded data removed]",
      "text/plain": [
       "<Figure size 432x288 with 1 Axes>"
      ]
     },
     "metadata": {
      "needs_background": "light"
     },
     "output_type": "display_data"
    }
   ],
   "source": [
    "# Barplots with Regards to Business Size\n",
    "plt.title(\"Average Number of Representatives by Business Size\")\n",
    "sns.barplot(x=patents_data['businessSize'], y=patents_data['numReps'])\n",
    "plt.xlabel(\"Business Size\")\n",
    "plt.ylabel(\"Average Number of Representatives\")"
   ]
  },
  {
   "cell_type": "code",
   "execution_count": 98,
   "metadata": {},
   "outputs": [
    {
     "data": {
      "text/plain": [
       "Text(0, 0.5, 'Average Number of Publications')"
      ]
     },
     "execution_count": 98,
     "metadata": {},
     "output_type": "execute_result"
    },
    {
     "data": {
      "image/png": "[encoded data removed]",
      "text/plain": [
       "<Figure size 432x288 with 1 Axes>"
      ]
     },
     "metadata": {
      "needs_background": "light"
     },
     "output_type": "display_data"
    }
   ],
   "source": [
    "plt.title(\"Average Number of Publications by Business Size\")\n",
    "sns.barplot(x=patents_data['businessSize'], y=patents_data['numPubs'])\n",
    "plt.xlabel(\"Business Size\")\n",
    "plt.ylabel(\"Average Number of Publications\")"
   ]
  },
  {
   "cell_type": "code",
   "execution_count": 99,
   "metadata": {},
   "outputs": [
    {
     "data": {
      "text/plain": [
       "Text(0, 0.5, 'Average Number of Exams')"
      ]
     },
     "execution_count": 99,
     "metadata": {},
     "output_type": "execute_result"
    },
    {
     "data": {
      "image/png": "[encoded data removed]",
      "text/plain": [
       "<Figure size 432x288 with 1 Axes>"
      ]
     },
     "metadata": {
      "needs_background": "light"
     },
     "output_type": "display_data"
    }
   ],
   "source": [
    "plt.title(\"Average Number of Exams by Business Size\")\n",
    "sns.barplot(x=patents_data['businessSize'], y=patents_data['numExams'])\n",
    "plt.xlabel(\"Business Size\")\n",
    "plt.ylabel(\"Average Number of Exams\")"
   ]
  },
  {
   "cell_type": "markdown",
   "metadata": {},
   "source": [
    "## Barplots Regarding Patent Nature and Validity\n",
    "<blockquote>Below we have three different barplots that show the following:\n",
    "<ul>\n",
    "    <li>Average Number of Representatives by Patent Nature and Validity</li>\n",
    "    <li>Average Number of Publications by Patent Nature and Validity </li>\n",
    "    <li>Average Number of Supplemental Exams by Patent Nature and Validity</li>\n",
    "</ul>\n",
    "We use the following to see if patent nature and validity has a correlation to the average number for representatives, publications, and supplemental exams.\n",
    "</blockquote>"
   ]
  },
  {
   "cell_type": "code",
   "execution_count": 100,
   "metadata": {},
   "outputs": [
    {
     "data": {
      "text/plain": [
       "Text(0, 0.5, 'Average Number of Representatives')"
      ]
     },
     "execution_count": 100,
     "metadata": {},
     "output_type": "execute_result"
    },
    {
     "data": {
      "image/png": "[encoded data removed]",
      "text/plain": [
       "<Figure size 432x288 with 1 Axes>"
      ]
     },
     "metadata": {
      "needs_background": "light"
     },
     "output_type": "display_data"
    }
   ],
   "source": [
    "#Barplots with Regard to Patent Nature and Validity\n",
    "plt.title(\"Average Number of Representatives by Patent Nature and Validity\")\n",
    "sns.barplot(x=patents_data['patentNature'], y=patents_data['numReps'], hue=patents_data['isValid'])\n",
    "plt.xlabel(\"Patent Nature\")\n",
    "plt.ylabel(\"Average Number of Representatives\")"
   ]
  },
  {
   "cell_type": "code",
   "execution_count": 101,
   "metadata": {},
   "outputs": [
    {
     "data": {
      "text/plain": [
       "Text(0, 0.5, 'Average Number of Publications')"
      ]
     },
     "execution_count": 101,
     "metadata": {},
     "output_type": "execute_result"
    },
    {
     "data": {
      "image/png": "[encoded data removed]",
      "text/plain": [
       "<Figure size 432x288 with 1 Axes>"
      ]
     },
     "metadata": {
      "needs_background": "light"
     },
     "output_type": "display_data"
    }
   ],
   "source": [
    "plt.title(\"Average Number of Publications by Patent Nature and Validity\")\n",
    "sns.barplot(x=patents_data['patentNature'], y=patents_data['numPubs'], hue=patents_data['isValid'])\n",
    "plt.xlabel(\"Patent Nature\")\n",
    "plt.ylabel(\"Average Number of Publications\")"
   ]
  },
  {
   "cell_type": "code",
   "execution_count": 102,
   "metadata": {},
   "outputs": [
    {
     "data": {
      "text/plain": [
       "Text(0, 0.5, 'Average Number of Exams')"
      ]
     },
     "execution_count": 102,
     "metadata": {},
     "output_type": "execute_result"
    },
    {
     "data": {
      "image/png": "[encoded data removed]",
      "text/plain": [
       "<Figure size 432x288 with 1 Axes>"
      ]
     },
     "metadata": {
      "needs_background": "light"
     },
     "output_type": "display_data"
    }
   ],
   "source": [
    "plt.title(\"Average Number of Exams by Patent Nature and Validity\")\n",
    "sns.barplot(x=patents_data['patentNature'], y=patents_data['numExams'], hue=patents_data[\"isValid\"])\n",
    "plt.xlabel(\"Patent Nature\")\n",
    "plt.ylabel(\"Average Number of Exams\")"
   ]
  },
  {
   "cell_type": "markdown",
   "metadata": {},
   "source": [
    "## Heatmap of correlations between numeric fields\n",
    "<blockquote>Below we have a heatmap that utilizes numeric fields in patents2.csv and checks to see if there are any correlations between these fields. Between 0 and 1, if there is a high correlation between two fields, the number is higher. If there is a low correlation between two fields, the number is lower.\n",
    "</blockquote>"
   ]
  },
  {
   "cell_type": "code",
   "execution_count": 103,
   "metadata": {},
   "outputs": [
    {
     "data": {
      "text/plain": [
       "<matplotlib.axes._subplots.AxesSubplot at 0x1a2691ea60>"
      ]
     },
     "execution_count": 103,
     "metadata": {},
     "output_type": "execute_result"
    },
    {
     "data": {
      "image/png": "[encoded data removed]",
      "text/plain": [
       "<Figure size 432x288 with 2 Axes>"
      ]
     },
     "metadata": {
      "needs_background": "light"
     },
     "output_type": "display_data"
    }
   ],
   "source": [
    "corr=patents_data[['hasRepresentative', 'hasPublication', 'hasExam', 'numExams', 'numReps', 'numPubs']].corr()\n",
    "sns.heatmap(corr, annot=True)"
   ]
  },
  {
   "cell_type": "markdown",
   "metadata": {},
   "source": [
    "## Two-Dimensional KDE (Kernal Density Estimate) Plot\n",
    "<blockquote>We use a 2D KDE plot to see possible correlations between numeric fields. Specifically, we look between:<ul>\n",
    "    <li>Number of Representatives and Number of Publications</li>\n",
    "    <li>Number of Representatives and Number of Exams</li>\n",
    "    <li>Number of Publications and Number of Exams</li>\n",
    "</ul></blockquote>"
   ]
  },
  {
   "cell_type": "code",
   "execution_count": 104,
   "metadata": {},
   "outputs": [
    {
     "data": {
      "text/plain": [
       "<seaborn.axisgrid.JointGrid at 0x1a26a80a00>"
      ]
     },
     "execution_count": 104,
     "metadata": {},
     "output_type": "execute_result"
    },
    {
     "data": {
      "image/png": "[encoded data removed]",
      "text/plain": [
       "<Figure size 432x432 with 3 Axes>"
      ]
     },
     "metadata": {
      "needs_background": "light"
     },
     "output_type": "display_data"
    },
    {
     "data": {
      "image/png": "[encoded data removed]",
      "text/plain": [
       "<Figure size 432x432 with 3 Axes>"
      ]
     },
     "metadata": {
      "needs_background": "light"
     },
     "output_type": "display_data"
    },
    {
     "data": {
      "image/png": "[encoded data removed]",
      "text/plain": [
       "<Figure size 432x432 with 3 Axes>"
      ]
     },
     "metadata": {
      "needs_background": "light"
     },
     "output_type": "display_data"
    }
   ],
   "source": [
    "sns.jointplot(x=patents_data['numReps'], y=patents_data['numPubs'], kind=\"kde\")\n",
    "sns.jointplot(x=patents_data['numReps'], y=patents_data['numExams'], kind=\"kde\")\n",
    "sns.jointplot(x=patents_data['numPubs'], y=patents_data['numExams'], kind=\"kde\")"
   ]
  }
 ],
 "metadata": {
  "kernelspec": {
   "display_name": "Python 3",
   "language": "python",
   "name": "python3"
  },
  "language_info": {
   "codemirror_mode": {
    "name": "ipython",
    "version": 3
   },
   "file_extension": ".py",
   "mimetype": "text/x-python",
   "name": "python",
   "nbconvert_exporter": "python",
   "pygments_lexer": "ipython3",
   "version": "3.7.4"
  }
 },
 "nbformat": 4,
 "nbformat_minor": 2
}
