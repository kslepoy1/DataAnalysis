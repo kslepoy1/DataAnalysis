{
 "cells": [
  {
   "cell_type": "code",
   "execution_count": 1,
   "metadata": {},
   "outputs": [],
   "source": [
    "import pandas as pd\n",
    "import json\n",
    "import requests\n",
    "from IPython.display import IFrame"
   ]
  },
  {
   "cell_type": "code",
   "execution_count": 2,
   "metadata": {},
   "outputs": [],
   "source": [
    "threempats = []\n",
    "for i in range(0, 8):\n",
    "    start_year = 2010+i\n",
    "    end_year = 2011+i\n",
    "    url_patents=\"\"\"https://www.patentsview.org/api/patents/query?q={\"_and\":[{\"_begins\":{\"assignee_organization\":\"3M Innovative Properties Company\"}},{\"_gte\":{\"patent_date\":\"%d-01-01\"}},{\"_lte\":{\"patent_date\":\"%d-01-01\"}}]}\"\"\" % (start_year, end_year)\n",
    "    r = requests.get(url=url_patents)\n",
    "    threempats.append(r.json()['total_patent_count'])\n",
    "    "
   ]
  },
  {
   "cell_type": "code",
   "execution_count": 3,
   "metadata": {},
   "outputs": [],
   "source": [
    "bayerpats=[]\n",
    "for i in range(0,8):\n",
    "    start_year=2010+i\n",
    "    end_year = 2011+i\n",
    "    url_patents=\"\"\"https://www.patentsview.org/api/patents/query?q={\"_and\":[{\"_begins\":{\"assignee_organization\":\"Bayer\"}},{\"_gte\":{\"patent_date\":\"%d-01-01\"}},{\"_lte\":{\"patent_date\":\"%d-01-01\"}}]}\"\"\" % (start_year, end_year)\n",
    "    r = requests.get(url=url_patents)\n",
    "    bayerpats.append(r.json()['total_patent_count'])"
   ]
  },
  {
   "cell_type": "code",
   "execution_count": 4,
   "metadata": {},
   "outputs": [],
   "source": [
    "googlepats=[]\n",
    "for i in range(0,8):\n",
    "    start_year=2010+i\n",
    "    end_year = 2011+i\n",
    "    url_patents=\"\"\"https://www.patentsview.org/api/patents/query?q={\"_and\":[{\"_begins\":{\"assignee_organization\":\"Google\"}},{\"_gte\":{\"patent_date\":\"%d-01-01\"}},{\"_lte\":{\"patent_date\":\"%d-01-01\"}}]}\"\"\" % (start_year, end_year)\n",
    "    r = requests.get(url=url_patents)\n",
    "    googlepats.append(r.json()['total_patent_count'])"
   ]
  },
  {
   "cell_type": "code",
   "execution_count": 5,
   "metadata": {},
   "outputs": [
    {
     "data": {
      "text/plain": [
       "Index(['Date', ' Close/Last', ' Volume', ' Open', ' High', ' Low'], dtype='object')"
      ]
     },
     "execution_count": 5,
     "metadata": {},
     "output_type": "execute_result"
    }
   ],
   "source": [
    "bayer = pd.read_csv('bayer.csv')\n",
    "bayer.columns"
   ]
  },
  {
   "cell_type": "code",
   "execution_count": 6,
   "metadata": {},
   "outputs": [],
   "source": [
    "years=[10,11,12,13,14,15,16,17]"
   ]
  },
  {
   "cell_type": "code",
   "execution_count": 7,
   "metadata": {},
   "outputs": [],
   "source": [
    "for row in range(len(bayer)):\n",
    "    if str(bayer.iat[row,0])[-2:] not in years:\n",
    "        bayer.drop(row)\n",
    "    \n",
    "    bayer.iat[row,0]=int(str(bayer.iat[row,0])[-2:])\n",
    "bayer.drop_duplicates(subset=['Date'], inplace=True)"
   ]
  },
  {
   "cell_type": "code",
   "execution_count": 8,
   "metadata": {},
   "outputs": [],
   "source": [
    "bayer.drop([0,10,262], inplace=True)"
   ]
  },
  {
   "cell_type": "code",
   "execution_count": 9,
   "metadata": {},
   "outputs": [
    {
     "data": {
      "text/plain": [
       "[486, 464, 628, 549, 560, 633, 559, 548]"
      ]
     },
     "execution_count": 9,
     "metadata": {},
     "output_type": "execute_result"
    }
   ],
   "source": [
    "stocklist = bayer[' Close/Last']\n",
    "stocklist=list(stocklist)\n",
    "stocklist.reverse()\n",
    "bayerpats"
   ]
  },
  {
   "cell_type": "code",
   "execution_count": 10,
   "metadata": {},
   "outputs": [],
   "source": [
    "for i in range(len(stocklist)):\n",
    "    stocklist[i]=float(stocklist[i].strip(' $'))"
   ]
  },
  {
   "cell_type": "code",
   "execution_count": 11,
   "metadata": {},
   "outputs": [],
   "source": [
    "bayeravg=sum(stocklist)/len(stocklist)\n",
    "for x in range (len(stocklist)):\n",
    "    stocklist[x]*=100\n",
    "    stocklist[x]/=bayeravg\n",
    "bayeravg=sum(bayerpats)/len(bayerpats)\n",
    "for x in range (len(bayerpats)):\n",
    "    bayerpats[x]*=100\n",
    "    bayerpats[x]/=bayeravg\n",
    "    "
   ]
  },
  {
   "cell_type": "code",
   "execution_count": 12,
   "metadata": {},
   "outputs": [
    {
     "data": {
      "text/html": [
       "<div>\n",
       "<style scoped>\n",
       "    .dataframe tbody tr th:only-of-type {\n",
       "        vertical-align: middle;\n",
       "    }\n",
       "\n",
       "    .dataframe tbody tr th {\n",
       "        vertical-align: top;\n",
       "    }\n",
       "\n",
       "    .dataframe thead th {\n",
       "        text-align: right;\n",
       "    }\n",
       "</style>\n",
       "<table border=\"1\" class=\"dataframe\">\n",
       "  <thead>\n",
       "    <tr style=\"text-align: right;\">\n",
       "      <th></th>\n",
       "      <th>Stocks</th>\n",
       "      <th>Patents</th>\n",
       "    </tr>\n",
       "  </thead>\n",
       "  <tbody>\n",
       "    <tr>\n",
       "      <td>10</td>\n",
       "      <td>67.816446</td>\n",
       "      <td>87.824712</td>\n",
       "    </tr>\n",
       "    <tr>\n",
       "      <td>11</td>\n",
       "      <td>58.978861</td>\n",
       "      <td>83.849108</td>\n",
       "    </tr>\n",
       "    <tr>\n",
       "      <td>12</td>\n",
       "      <td>88.671668</td>\n",
       "      <td>113.485430</td>\n",
       "    </tr>\n",
       "    <tr>\n",
       "      <td>13</td>\n",
       "      <td>131.269566</td>\n",
       "      <td>99.209397</td>\n",
       "    </tr>\n",
       "    <tr>\n",
       "      <td>14</td>\n",
       "      <td>126.499489</td>\n",
       "      <td>101.197199</td>\n",
       "    </tr>\n",
       "    <tr>\n",
       "      <td>15</td>\n",
       "      <td>115.401479</td>\n",
       "      <td>114.388977</td>\n",
       "    </tr>\n",
       "    <tr>\n",
       "      <td>16</td>\n",
       "      <td>96.399932</td>\n",
       "      <td>101.016490</td>\n",
       "    </tr>\n",
       "    <tr>\n",
       "      <td>17</td>\n",
       "      <td>114.962558</td>\n",
       "      <td>99.028688</td>\n",
       "    </tr>\n",
       "  </tbody>\n",
       "</table>\n",
       "</div>"
      ],
      "text/plain": [
       "        Stocks     Patents\n",
       "10   67.816446   87.824712\n",
       "11   58.978861   83.849108\n",
       "12   88.671668  113.485430\n",
       "13  131.269566   99.209397\n",
       "14  126.499489  101.197199\n",
       "15  115.401479  114.388977\n",
       "16   96.399932  101.016490\n",
       "17  114.962558   99.028688"
      ]
     },
     "execution_count": 12,
     "metadata": {},
     "output_type": "execute_result"
    }
   ],
   "source": [
    "bayer2=pd.DataFrame({\"Stocks\": stocklist, \"Patents\": bayerpats}, index=years)\n",
    "bayer2.to_csv('bayergraph.csv')\n",
    "bayer2"
   ]
  },
  {
   "cell_type": "code",
   "execution_count": 13,
   "metadata": {},
   "outputs": [
    {
     "data": {
      "text/html": [
       "\n",
       "        <iframe\n",
       "            width=\"900\"\n",
       "            height=\"800\"\n",
       "            src=\"https://public.flourish.studio/visualisation/1243783/\"\n",
       "            frameborder=\"0\"\n",
       "            allowfullscreen\n",
       "        ></iframe>\n",
       "        "
      ],
      "text/plain": [
       "<IPython.lib.display.IFrame at 0x10c0b1310>"
      ]
     },
     "metadata": {},
     "output_type": "display_data"
    }
   ],
   "source": [
    "display(IFrame('https://public.flourish.studio/visualisation/1243783/', width=900, height = 800))"
   ]
  },
  {
   "cell_type": "code",
   "execution_count": 14,
   "metadata": {},
   "outputs": [
    {
     "data": {
      "text/html": [
       "<div>\n",
       "<style scoped>\n",
       "    .dataframe tbody tr th:only-of-type {\n",
       "        vertical-align: middle;\n",
       "    }\n",
       "\n",
       "    .dataframe tbody tr th {\n",
       "        vertical-align: top;\n",
       "    }\n",
       "\n",
       "    .dataframe thead th {\n",
       "        text-align: right;\n",
       "    }\n",
       "</style>\n",
       "<table border=\"1\" class=\"dataframe\">\n",
       "  <thead>\n",
       "    <tr style=\"text-align: right;\">\n",
       "      <th></th>\n",
       "      <th>date</th>\n",
       "      <th>open</th>\n",
       "      <th>high</th>\n",
       "      <th>low</th>\n",
       "      <th>close</th>\n",
       "      <th>volume</th>\n",
       "    </tr>\n",
       "  </thead>\n",
       "  <tbody>\n",
       "    <tr>\n",
       "      <td>0</td>\n",
       "      <td>1970-01-02</td>\n",
       "      <td>6.8513</td>\n",
       "      <td>6.8906</td>\n",
       "      <td>6.8438</td>\n",
       "      <td>6.8513</td>\n",
       "      <td>72000</td>\n",
       "    </tr>\n",
       "    <tr>\n",
       "      <td>1</td>\n",
       "      <td>1970-01-05</td>\n",
       "      <td>6.8594</td>\n",
       "      <td>6.8988</td>\n",
       "      <td>6.8594</td>\n",
       "      <td>6.8906</td>\n",
       "      <td>446400</td>\n",
       "    </tr>\n",
       "    <tr>\n",
       "      <td>2</td>\n",
       "      <td>1970-01-06</td>\n",
       "      <td>6.8906</td>\n",
       "      <td>6.9613</td>\n",
       "      <td>6.8825</td>\n",
       "      <td>6.9613</td>\n",
       "      <td>176000</td>\n",
       "    </tr>\n",
       "    <tr>\n",
       "      <td>3</td>\n",
       "      <td>1970-01-07</td>\n",
       "      <td>6.9613</td>\n",
       "      <td>7.0156</td>\n",
       "      <td>6.9450</td>\n",
       "      <td>7.0000</td>\n",
       "      <td>164800</td>\n",
       "    </tr>\n",
       "    <tr>\n",
       "      <td>4</td>\n",
       "      <td>1970-01-08</td>\n",
       "      <td>7.0000</td>\n",
       "      <td>7.1094</td>\n",
       "      <td>6.9844</td>\n",
       "      <td>7.0938</td>\n",
       "      <td>304000</td>\n",
       "    </tr>\n",
       "    <tr>\n",
       "      <td>...</td>\n",
       "      <td>...</td>\n",
       "      <td>...</td>\n",
       "      <td>...</td>\n",
       "      <td>...</td>\n",
       "      <td>...</td>\n",
       "      <td>...</td>\n",
       "    </tr>\n",
       "    <tr>\n",
       "      <td>12618</td>\n",
       "      <td>2020-01-09</td>\n",
       "      <td>181.5100</td>\n",
       "      <td>181.5900</td>\n",
       "      <td>179.7600</td>\n",
       "      <td>181.2000</td>\n",
       "      <td>2746309</td>\n",
       "    </tr>\n",
       "    <tr>\n",
       "      <td>12619</td>\n",
       "      <td>2020-01-10</td>\n",
       "      <td>181.6100</td>\n",
       "      <td>182.1800</td>\n",
       "      <td>180.1400</td>\n",
       "      <td>180.4700</td>\n",
       "      <td>2103818</td>\n",
       "    </tr>\n",
       "    <tr>\n",
       "      <td>12620</td>\n",
       "      <td>2020-01-13</td>\n",
       "      <td>180.9400</td>\n",
       "      <td>182.2300</td>\n",
       "      <td>180.3600</td>\n",
       "      <td>180.9200</td>\n",
       "      <td>2090455</td>\n",
       "    </tr>\n",
       "    <tr>\n",
       "      <td>12621</td>\n",
       "      <td>2020-01-14</td>\n",
       "      <td>180.9200</td>\n",
       "      <td>182.5450</td>\n",
       "      <td>180.2100</td>\n",
       "      <td>181.3700</td>\n",
       "      <td>2911234</td>\n",
       "    </tr>\n",
       "    <tr>\n",
       "      <td>12622</td>\n",
       "      <td>2020-01-15</td>\n",
       "      <td>181.4200</td>\n",
       "      <td>181.8600</td>\n",
       "      <td>179.1800</td>\n",
       "      <td>179.7800</td>\n",
       "      <td>2482218</td>\n",
       "    </tr>\n",
       "  </tbody>\n",
       "</table>\n",
       "<p>12623 rows × 6 columns</p>\n",
       "</div>"
      ],
      "text/plain": [
       "             date      open      high       low     close   volume\n",
       "0      1970-01-02    6.8513    6.8906    6.8438    6.8513    72000\n",
       "1      1970-01-05    6.8594    6.8988    6.8594    6.8906   446400\n",
       "2      1970-01-06    6.8906    6.9613    6.8825    6.9613   176000\n",
       "3      1970-01-07    6.9613    7.0156    6.9450    7.0000   164800\n",
       "4      1970-01-08    7.0000    7.1094    6.9844    7.0938   304000\n",
       "...           ...       ...       ...       ...       ...      ...\n",
       "12618  2020-01-09  181.5100  181.5900  179.7600  181.2000  2746309\n",
       "12619  2020-01-10  181.6100  182.1800  180.1400  180.4700  2103818\n",
       "12620  2020-01-13  180.9400  182.2300  180.3600  180.9200  2090455\n",
       "12621  2020-01-14  180.9200  182.5450  180.2100  181.3700  2911234\n",
       "12622  2020-01-15  181.4200  181.8600  179.1800  179.7800  2482218\n",
       "\n",
       "[12623 rows x 6 columns]"
      ]
     },
     "execution_count": 14,
     "metadata": {},
     "output_type": "execute_result"
    }
   ],
   "source": [
    "threem = pd.read_csv('3M.csv')\n",
    "threem"
   ]
  },
  {
   "cell_type": "code",
   "execution_count": 15,
   "metadata": {},
   "outputs": [],
   "source": [
    "for row in range(len(threem)):\n",
    "    if str(threem.iat[row,0])[-2:] not in years:\n",
    "        threem.drop(row)\n",
    "    threem.iat[row,0]=int(str(threem.iat[row,0])[2:4])\n",
    "threem.drop_duplicates(subset=['date'], inplace=True)"
   ]
  },
  {
   "cell_type": "code",
   "execution_count": 16,
   "metadata": {},
   "outputs": [],
   "source": [
    "threem=threem[(threem['date']>=10) & (threem['date']<=17)]"
   ]
  },
  {
   "cell_type": "code",
   "execution_count": 17,
   "metadata": {},
   "outputs": [],
   "source": [
    "stocklist=threem['close']\n",
    "\n",
    "stocklist=list(stocklist)"
   ]
  },
  {
   "cell_type": "code",
   "execution_count": 18,
   "metadata": {},
   "outputs": [],
   "source": [
    "threemavg=sum(stocklist)/len(stocklist)\n",
    "for x in range (len(stocklist)):\n",
    "    stocklist[x]*=100\n",
    "    stocklist[x]/=threemavg\n",
    "threemavg=sum(threempats)/len(threempats)\n",
    "for x in range (len(threempats)):\n",
    "    threempats[x]*=100\n",
    "    threempats[x]/=threemavg\n",
    "    "
   ]
  },
  {
   "cell_type": "code",
   "execution_count": 19,
   "metadata": {},
   "outputs": [],
   "source": [
    "threemstocks=pd.DataFrame({\"Stocks\": list(stocklist), \"Patents\": threempats}, index=years)"
   ]
  },
  {
   "cell_type": "code",
   "execution_count": 20,
   "metadata": {},
   "outputs": [],
   "source": [
    "threemstocks.to_csv('threemstocks.csv')"
   ]
  },
  {
   "cell_type": "code",
   "execution_count": 21,
   "metadata": {},
   "outputs": [
    {
     "data": {
      "text/html": [
       "<div>\n",
       "<style scoped>\n",
       "    .dataframe tbody tr th:only-of-type {\n",
       "        vertical-align: middle;\n",
       "    }\n",
       "\n",
       "    .dataframe tbody tr th {\n",
       "        vertical-align: top;\n",
       "    }\n",
       "\n",
       "    .dataframe thead th {\n",
       "        text-align: right;\n",
       "    }\n",
       "</style>\n",
       "<table border=\"1\" class=\"dataframe\">\n",
       "  <thead>\n",
       "    <tr style=\"text-align: right;\">\n",
       "      <th></th>\n",
       "      <th>Stocks</th>\n",
       "      <th>Patents</th>\n",
       "    </tr>\n",
       "  </thead>\n",
       "  <tbody>\n",
       "    <tr>\n",
       "      <td>10</td>\n",
       "      <td>68.109195</td>\n",
       "      <td>97.659709</td>\n",
       "    </tr>\n",
       "    <tr>\n",
       "      <td>11</td>\n",
       "      <td>71.202084</td>\n",
       "      <td>90.575585</td>\n",
       "    </tr>\n",
       "    <tr>\n",
       "      <td>12</td>\n",
       "      <td>68.494780</td>\n",
       "      <td>85.178157</td>\n",
       "    </tr>\n",
       "    <tr>\n",
       "      <td>13</td>\n",
       "      <td>77.757040</td>\n",
       "      <td>108.960573</td>\n",
       "    </tr>\n",
       "    <tr>\n",
       "      <td>14</td>\n",
       "      <td>113.321164</td>\n",
       "      <td>103.057137</td>\n",
       "    </tr>\n",
       "    <tr>\n",
       "      <td>15</td>\n",
       "      <td>134.594007</td>\n",
       "      <td>94.623656</td>\n",
       "    </tr>\n",
       "    <tr>\n",
       "      <td>16</td>\n",
       "      <td>120.450397</td>\n",
       "      <td>106.430529</td>\n",
       "    </tr>\n",
       "    <tr>\n",
       "      <td>17</td>\n",
       "      <td>146.071333</td>\n",
       "      <td>113.514653</td>\n",
       "    </tr>\n",
       "  </tbody>\n",
       "</table>\n",
       "</div>"
      ],
      "text/plain": [
       "        Stocks     Patents\n",
       "10   68.109195   97.659709\n",
       "11   71.202084   90.575585\n",
       "12   68.494780   85.178157\n",
       "13   77.757040  108.960573\n",
       "14  113.321164  103.057137\n",
       "15  134.594007   94.623656\n",
       "16  120.450397  106.430529\n",
       "17  146.071333  113.514653"
      ]
     },
     "execution_count": 21,
     "metadata": {},
     "output_type": "execute_result"
    }
   ],
   "source": [
    "threemstocks"
   ]
  },
  {
   "cell_type": "code",
   "execution_count": 22,
   "metadata": {},
   "outputs": [
    {
     "data": {
      "text/html": [
       "\n",
       "        <iframe\n",
       "            width=\"900\"\n",
       "            height=\"800\"\n",
       "            src=\"https://public.flourish.studio/visualisation/1243779/\"\n",
       "            frameborder=\"0\"\n",
       "            allowfullscreen\n",
       "        ></iframe>\n",
       "        "
      ],
      "text/plain": [
       "<IPython.lib.display.IFrame at 0x11d755cd0>"
      ]
     },
     "metadata": {},
     "output_type": "display_data"
    }
   ],
   "source": [
    "display(IFrame('https://public.flourish.studio/visualisation/1243779/', width=900, height = 800))\n"
   ]
  },
  {
   "cell_type": "code",
   "execution_count": 23,
   "metadata": {},
   "outputs": [
    {
     "data": {
      "text/plain": [
       "Index(['date', 'open', 'high', 'low', 'close', 'volume'], dtype='object')"
      ]
     },
     "execution_count": 23,
     "metadata": {},
     "output_type": "execute_result"
    }
   ],
   "source": [
    "google = pd.read_csv('google_stocks.csv')\n",
    "google.columns\n",
    "\n"
   ]
  },
  {
   "cell_type": "code",
   "execution_count": 24,
   "metadata": {},
   "outputs": [],
   "source": [
    "for row in range(len(google)):\n",
    "    if str(google.iat[row,0])[-2:] not in years:\n",
    "        google.drop(row)\n",
    "    google.iat[row,0]=int(str(google.iat[row,0])[2:4])\n",
    "google.drop_duplicates(subset=['date'], inplace=True)"
   ]
  },
  {
   "cell_type": "code",
   "execution_count": 25,
   "metadata": {},
   "outputs": [],
   "source": [
    "google=google[(google['date']>=10) & (google['date']<=17)]"
   ]
  },
  {
   "cell_type": "code",
   "execution_count": 26,
   "metadata": {},
   "outputs": [
    {
     "data": {
      "text/plain": [
       "[282, 428, 1212, 1879, 2677, 3356, 3395, 2889]"
      ]
     },
     "execution_count": 26,
     "metadata": {},
     "output_type": "execute_result"
    }
   ],
   "source": [
    "stocklist=google['close']\n",
    "\n",
    "stocklist=list(stocklist)\n",
    "googlepats"
   ]
  },
  {
   "cell_type": "code",
   "execution_count": 27,
   "metadata": {},
   "outputs": [
    {
     "data": {
      "text/plain": [
       "[13.996773793274599,\n",
       " 21.243330438019605,\n",
       " 60.15634694130785,\n",
       " 93.2621913388758,\n",
       " 132.87008313686562,\n",
       " 166.57153492989204,\n",
       " 168.50725896513214,\n",
       " 143.39248045663234]"
      ]
     },
     "execution_count": 27,
     "metadata": {},
     "output_type": "execute_result"
    }
   ],
   "source": [
    "googleavg=sum(stocklist)/len(stocklist)\n",
    "for x in range (len(stocklist)):\n",
    "    stocklist[x]*=100\n",
    "    stocklist[x]/=googleavg\n",
    "googleavg=sum(googlepats)/len(googlepats)\n",
    "for x in range (len(googlepats)):\n",
    "    googlepats[x]*=100\n",
    "    googlepats[x]/=googleavg\n",
    "googlepats"
   ]
  },
  {
   "cell_type": "code",
   "execution_count": 28,
   "metadata": {},
   "outputs": [],
   "source": [
    "googlestocks=pd.DataFrame({\"Stocks\": list(stocklist), \"Patents\": threempats}, index=years)\n",
    "googlestocks.to_csv('googlestocks.csv')"
   ]
  },
  {
   "cell_type": "code",
   "execution_count": 29,
   "metadata": {},
   "outputs": [
    {
     "data": {
      "text/html": [
       "\n",
       "        <iframe\n",
       "            width=\"900\"\n",
       "            height=\"800\"\n",
       "            src=\"https://public.flourish.studio/visualisation/1243330/\"\n",
       "            frameborder=\"0\"\n",
       "            allowfullscreen\n",
       "        ></iframe>\n",
       "        "
      ],
      "text/plain": [
       "<IPython.lib.display.IFrame at 0x10c0bff90>"
      ]
     },
     "metadata": {},
     "output_type": "display_data"
    }
   ],
   "source": [
    "display(IFrame('https://public.flourish.studio/visualisation/1243330/', width=900, height = 800))"
   ]
  },
  {
   "cell_type": "code",
   "execution_count": null,
   "metadata": {},
   "outputs": [],
   "source": []
  },
  {
   "cell_type": "code",
   "execution_count": null,
   "metadata": {},
   "outputs": [],
   "source": []
  },
  {
   "cell_type": "code",
   "execution_count": null,
   "metadata": {},
   "outputs": [],
   "source": []
  },
  {
   "cell_type": "code",
   "execution_count": null,
   "metadata": {},
   "outputs": [],
   "source": []
  }
 ],
 "metadata": {
  "kernelspec": {
   "display_name": "Python 3",
   "language": "python",
   "name": "python3"
  },
  "language_info": {
   "codemirror_mode": {
    "name": "ipython",
    "version": 3
   },
   "file_extension": ".py",
   "mimetype": "text/x-python",
   "name": "python",
   "nbconvert_exporter": "python",
   "pygments_lexer": "ipython3",
   "version": "3.7.4"
  }
 },
 "nbformat": 4,
 "nbformat_minor": 2
}
